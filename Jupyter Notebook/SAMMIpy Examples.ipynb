{
 "cells": [
  {
   "cell_type": "markdown",
   "metadata": {},
   "source": [
    "## SAMMIpy examples\n",
    "Example code for SAMMI visualizations directly from Python. Each Python cell will open a new browser with the generated SAMMI visualization. Start by loading the Libraries:"
   ]
  },
  {
   "cell_type": "code",
   "execution_count": null,
   "metadata": {},
   "outputs": [],
   "source": [
    "import cobra\n",
    "import cobra.test\n",
    "import numpy as np\n",
    "import sammi"
   ]
  },
  {
   "cell_type": "markdown",
   "metadata": {},
   "source": [
    "##### Plot entire model\n",
    "To plot entire model simply call ```sammi.plot()``` on the loaded model. This is not advisable for large models as the visualization may bet too large."
   ]
  },
  {
   "cell_type": "code",
   "execution_count": null,
   "metadata": {},
   "outputs": [],
   "source": [
    "#Get sample model to plot\n",
    "model = cobra.test.create_test_model(\"textbook\")\n",
    "#Plot file to default index_load.html\n",
    "sammi.plot(model)"
   ]
  },
  {
   "cell_type": "markdown",
   "metadata": {},
   "source": [
    "##### Divide the model into subgraphs on load\n",
    "Plot a map for each subsytem:"
   ]
  },
  {
   "cell_type": "code",
   "execution_count": null,
   "metadata": {},
   "outputs": [],
   "source": [
    "#Get sample model to plot\n",
    "model = cobra.test.create_test_model(\"salmonella\")\n",
    "#Plot\n",
    "sammi.plot(model,'subsystem')"
   ]
  },
  {
   "cell_type": "markdown",
   "metadata": {},
   "source": [
    "Plot a map for each compartment:"
   ]
  },
  {
   "cell_type": "code",
   "execution_count": null,
   "metadata": {},
   "outputs": [],
   "source": [
    "#Get sample model to plot\n",
    "model = cobra.test.create_test_model(\"textbook\")\n",
    "#Plot\n",
    "sammi.plot(model,'compartment')"
   ]
  },
  {
   "cell_type": "markdown",
   "metadata": {},
   "source": [
    "##### Plot and visualize multiple maps\n",
    "By default, SAMMI outputs the visualization to a file names ```index.load.html``` in the package folder. Therefore, by default, every time a new visualization is generated this file os overwritte. The name of the output file can be changed, however, in order to not overwrite files."
   ]
  },
  {
   "cell_type": "code",
   "execution_count": null,
   "metadata": {},
   "outputs": [],
   "source": [
    "#Get sample model to plot\n",
    "model = cobra.test.create_test_model(\"salmonella\")\n",
    "#Generate options. This will not load a new tab upon generating the visualization\n",
    "opts = sammi.options(load = False)\n",
    "#Plot file to default index_load.html\n",
    "sammi.plot(model,'subsystem',opts = opts)\n",
    "#Generate option for new name\n",
    "opts = sammi.options(htmlName = 'index_load2.html',load = False)\n",
    "#Plot file to default index_load.html\n",
    "sammi.plot(model,'compartment',opts = opts)\n",
    "#Open files in new tabs\n",
    "sammi.openmap('index_load.html')\n",
    "sammi.openmap('index_load2.html')"
   ]
  },
  {
   "cell_type": "markdown",
   "metadata": {},
   "source": [
    "##### Plot only certain groups of reactions\n",
    "Plot only certain reactions in a single graph and shelve secondary metabolites:"
   ]
  },
  {
   "cell_type": "code",
   "execution_count": null,
   "metadata": {},
   "outputs": [],
   "source": [
    "#Get sample model to plot\n",
    "model = cobra.test.create_test_model(\"textbook\")\n",
    "\n",
    "#Define reactions\n",
    "tca = ['ACONTa','ACONTb','AKGDH','CS','FUM','ICDHyr','MDH','SUCOAS']\n",
    "gly = ['ENO','FBA','FBP','GAPD','PDH','PFK','PGI','PGK','PGM','PPS','PYK','TPI']\n",
    "ppp = ['G6PDH2r','GND','PGL','RPE','RPI','TALA','TKT1','TKT2']\n",
    "dat = tca + gly + ppp\n",
    "\n",
    "#Define secondaries\n",
    "secondaries = ['^h_.$','^h2o_.$','^atp_.$','^adp_.','^pi_.','^o2_.','^co2_.','^nad_.','^nadh_.','^ndap_.','^ndaph_.']\n",
    "\n",
    "#Plot\n",
    "sammi.plot(model,dat,secondaries = secondaries)"
   ]
  },
  {
   "cell_type": "markdown",
   "metadata": {},
   "source": [
    "Plot lists of reactions as separate subgraphs:"
   ]
  },
  {
   "cell_type": "code",
   "execution_count": null,
   "metadata": {},
   "outputs": [],
   "source": [
    "#Get sample model to plot\n",
    "model = cobra.test.create_test_model(\"textbook\")\n",
    "\n",
    "#Define reactions\n",
    "tca = ['ACONTa','ACONTb','AKGDH','CS','FUM','ICDHyr','MDH','SUCOAS']\n",
    "gly = ['ENO','FBA','FBP','GAPD','PDH','PFK','PGI','PGK','PGM','PPS','PYK','TPI']\n",
    "ppp = ['G6PDH2r','GND','PGL','RPE','RPI','TALA','TKT1','TKT2']\n",
    "\n",
    "#Initialize class\n",
    "dat = [sammi.parser('TCA cycle',tca),\n",
    "      sammi.parser('Glycolysis/Gluconeogenesis',gly),\n",
    "      sammi.parser('Pentose Phosphate Pathway',ppp)]\n",
    "#Plot\n",
    "sammi.plot(model,dat)"
   ]
  },
  {
   "cell_type": "markdown",
   "metadata": {},
   "source": [
    "##### Data Mapping\n",
    "Add data to plotted subgraphs. In this case we are generating random data and mapping it onto the desired reactions."
   ]
  },
  {
   "cell_type": "code",
   "execution_count": null,
   "metadata": {},
   "outputs": [],
   "source": [
    "#Get sample model to plot\n",
    "model = cobra.test.create_test_model(\"textbook\")\n",
    "\n",
    "#Define reactions\n",
    "tca = ['ACONTa','ACONTb','AKGDH','CS','FUM','ICDHyr','MDH','SUCOAS']\n",
    "gly = ['ENO','FBA','FBP','GAPD','PDH','PFK','PGI','PGK','PGM','PPS','PYK','TPI']\n",
    "ppp = ['G6PDH2r','GND','PGL','RPE','RPI','TALA','TKT1','TKT2']\n",
    "\n",
    "#Initialize class\n",
    "dat = [sammi.parser('TCA cycle',tca,np.random.rand(len(tca))),\n",
    "      sammi.parser('Glycolysis/Gluconeogenesis',gly,np.random.rand(len(gly))),\n",
    "      sammi.parser('Pentose Phosphate Pathway',ppp,np.random.rand(len(ppp)))]\n",
    "#Plot\n",
    "sammi.plot(model,dat)"
   ]
  },
  {
   "cell_type": "markdown",
   "metadata": {},
   "source": [
    "Divide map into subsystems, map random data using color and size, and shelve secondary metabolites."
   ]
  },
  {
   "cell_type": "code",
   "execution_count": null,
   "metadata": {},
   "outputs": [],
   "source": [
    "#Get sample model to plot\n",
    "model = cobra.test.create_test_model(\"salmonella\")\n",
    "\n",
    "#Get reactions and metabolites\n",
    "rx = [f.id for f in model.reactions]\n",
    "met = [m.id for m in model.metabolites]\n",
    "\n",
    "#Generate random data to plot\n",
    "datat = [sammi.data('reactions','color',np.random.rand(len(rx),3),rx,['c1','c2','c3']),\n",
    "         sammi.data('reactions','size',np.random.rand(len(rx),3),rx,['c1','c2','c3']),\n",
    "         sammi.data('metabolites','color',np.random.rand(len(met),3),met,['c1','c2','c3']),\n",
    "         sammi.data('metabolites','size',np.random.rand(len(met),3),met,['c1','c2','c3']),\n",
    "         sammi.data('links','size',np.random.rand(len(rx),3),rx,['c1','c2','c3'])]\n",
    "\n",
    "#Introduce NAs\n",
    "for k in range(len(datat)):\n",
    "    for i in range(datat[k].data.shape[0]):\n",
    "        for j in range(datat[k].data.shape[1]):\n",
    "            if np.random.rand(1)[0] < 0.1:\n",
    "                datat[k].data[i,j] = float('nan')\n",
    "\n",
    "#Define secondaries\n",
    "secondaries = ['^h_.$','^h2o_.$','^atp_.$','^adp_.','^pi_.','^o2_.','^co2_.','^nad_.','^nadh_.','^ndap_.','^ndaph_.']\n",
    "\n",
    "#Plot\n",
    "sammi.plot(model,'subsystem',datat = datat,secondaries = secondaries,opts = sammi.options(load=True))"
   ]
  },
  {
   "cell_type": "markdown",
   "metadata": {},
   "source": [
    "##### Change map upon load\n",
    "SAMMI options also allow users to change visualization parameters upon loading the model. This can be done by adding JavaScript code to the end of the visualization. To use this advanced features users need to be familiar with JavaScript and need to familiarize themselves with the SAMMI visualization html layout. The following code loads the previous map, changes the visualization to the Citric Acid Cycle subgraph, and changes the colorscale upon loading."
   ]
  },
  {
   "cell_type": "code",
   "execution_count": null,
   "metadata": {},
   "outputs": [],
   "source": [
    "#Get sample model to plot\n",
    "model = cobra.test.create_test_model(\"salmonella\")\n",
    "\n",
    "#Get reactions and metabolites\n",
    "rx = [f.id for f in model.reactions]\n",
    "met = [m.id for m in model.metabolites]\n",
    "\n",
    "#Generate random data to plot\n",
    "datat = [sammi.data('reactions','color',np.random.rand(len(rx),3),rx,['c1','c2','c3']),\n",
    "         sammi.data('reactions','size',np.random.rand(len(rx),3),rx,['c1','c2','c3']),\n",
    "         sammi.data('metabolites','color',np.random.rand(len(met),3),met,['c1','c2','c3']),\n",
    "         sammi.data('metabolites','size',np.random.rand(len(met),3),met,['c1','c2','c3']),\n",
    "         sammi.data('links','size',np.random.rand(len(rx),3),rx,['c1','c2','c3'])]\n",
    "\n",
    "#Introduce NAs\n",
    "for k in range(len(datat)):\n",
    "    for i in range(datat[k].data.shape[0]):\n",
    "        for j in range(datat[k].data.shape[1]):\n",
    "            if np.random.rand(1)[0] < 0.1:\n",
    "                datat[k].data[i,j] = float('nan')\n",
    "\n",
    "#Define secondaries\n",
    "secondaries = ['^h_.$','^h2o_.$','^atp_.$','^adp_.','^pi_.','^o2_.','^co2_.','^nad_.','^nadh_.','^ndap_.','^ndaph_.']\n",
    "\n",
    "#Generate javascript\n",
    "jscode = 'x = document.getElementById(\"onloadf1\");' + \\\n",
    "'x.value = \"Citric Acid Cycle\";' + \\\n",
    "'onLoadSwitch(x);' + \\\n",
    "'document.getElementById(\"fluxmin\").valueAsNumber = -0.1;' + \\\n",
    "'document.getElementById(\"fluxmax\").valueAsNumber = 0.1;' + \\\n",
    "'fluxmin = -0.1; fluxmax = 0.1;' + \\\n",
    "'document.getElementById(\"edgemin\").value = \"#ff0000\";' + \\\n",
    "'document.getElementById(\"edgemax\").value = \"#0000ff\";' + \\\n",
    "'document.getElementById(\"addrxnbreak\").click();' + \\\n",
    "'document.getElementsByClassName(\"rxnbreakval\")[0].value = 0;' + \\\n",
    "'document.getElementsByClassName(\"rxnbreakcol\")[0].value = \"#c0c0c0\";' + \\\n",
    "'defineFluxColorVectors();'\n",
    "\n",
    "#Plot\n",
    "sammi.plot(model,'subsystem',datat = datat,secondaries = secondaries,opts = sammi.options(load=True,jscode=jscode))"
   ]
  },
  {
   "cell_type": "markdown",
   "metadata": {},
   "source": [
    "##### Metabolic Adaptation\n",
    "Visualize adaptation to gene knockout. In short, the following code performs the following steps for each reactino we wish to simulate.\n",
    "\n",
    "1. Simulate reaction knockout and get maximum growth rate on KO model.\n",
    "2. Set upper and lower bound growth rate on wild-type model to KO growth rate and calculate a loopless flux distribution.\n",
    "3. Using MOMA, calculate a flux distribution in the knockout strain that closely matches the flux distribution in the previous step.\n",
    "4. Find the difference in flux distributions in steps two and three and plot them.\n",
    "\n",
    "This process allows users to visualize how the flux was rewired in the knockout strain."
   ]
  },
  {
   "cell_type": "code",
   "execution_count": null,
   "metadata": {},
   "outputs": [],
   "source": [
    "from cobra.flux_analysis import single_reaction_deletion, moma\n",
    "from cobra.flux_analysis.loopless import add_loopless, loopless_solution\n",
    "\n",
    "#Get model\n",
    "model = cobra.test.create_test_model(\"ecoli\")\n",
    "#Set objective\n",
    "model.objective = \"Ec_biomass_iJO1366_core_53p95M\"\n",
    "#Initialize parsing list\n",
    "dat = []\n",
    "#Define reactions to simulate knockout\n",
    "korxns = ['ENO','FBA','TKT2','TALA','FUM','MDH','GAPD','TPI']\n",
    "#Simulate reaction knockout\n",
    "for r in korxns:\n",
    "    with model:\n",
    "        #Save original bounds\n",
    "        lb = model.reactions.get_by_id(r).lower_bound\n",
    "        ub = model.reactions.get_by_id(r).upper_bound\n",
    "        #Set objective to KO\n",
    "        model.reactions.get_by_id(r).knock_out()\n",
    "        objval = model.optimize().objective_value\n",
    "        model.reactions.get_by_id(\"Ec_biomass_iJO1366_core_53p95M\").upper_bound = objval\n",
    "        model.reactions.get_by_id(\"Ec_biomass_iJO1366_core_53p95M\").lower_bound = objval\n",
    "        #Restore bounds\n",
    "        model.reactions.get_by_id(r).lower_bound = lb\n",
    "        model.reactions.get_by_id(r).upper_bound = ub\n",
    "        #Calculate objective\n",
    "        model.optimize()\n",
    "        flux = loopless_solution(model)\n",
    "        #Calculate adaptation\n",
    "        model.reactions.get_by_id(r).knock_out()\n",
    "        koflux = cobra.flux_analysis.moma(model,solution=flux)\n",
    "        #Save\n",
    "        tmp = flux.fluxes - koflux.fluxes\n",
    "        bol = abs(tmp) > 1e-7\n",
    "        x = tmp[bol]\n",
    "        dat.append(sammi.parser(r + ' - ' + str(round(objval,4)),list(x.index),list(x)))\n",
    "        #Restore bounds again\n",
    "        model.reactions.get_by_id(r).lower_bound = lb\n",
    "        model.reactions.get_by_id(r).upper_bound = ub\n",
    "        model.reactions.get_by_id(\"Ec_biomass_iJO1366_core_53p95M\").upper_bound = 1000\n",
    "        model.reactions.get_by_id(\"Ec_biomass_iJO1366_core_53p95M\").lower_bound = 0\n",
    "#Define secondaries\n",
    "secondaries = ['^h_.$','^h2o_.$','^atp_.$','^adp_.','^pi_.','^o2_.','^co2_.','^nad_.','^nadh_.','^ndap_.','^ndaph_.',\\\n",
    "               '^q8_.$','^q8h2_.$','^nadp_.','^nadph_.']\n",
    "#Plot difference in scatterplot\n",
    "sammi.plot(model,dat,secondaries = secondaries)"
   ]
  }
 ],
 "metadata": {
  "kernelspec": {
   "display_name": "Python 3",
   "language": "python",
   "name": "python3"
  },
  "language_info": {
   "codemirror_mode": {
    "name": "ipython",
    "version": 3
   },
   "file_extension": ".py",
   "mimetype": "text/x-python",
   "name": "python",
   "nbconvert_exporter": "python",
   "pygments_lexer": "ipython3",
   "version": "3.7.1"
  }
 },
 "nbformat": 4,
 "nbformat_minor": 2
}
